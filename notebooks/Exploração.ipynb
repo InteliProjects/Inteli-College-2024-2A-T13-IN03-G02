{
  "cells": [
    {
      "cell_type": "markdown",
      "metadata": {
        "id": "KCMyGDq9AdOB"
      },
      "source": [
        "# Exploração de dados\n",
        "<p>Este notebook realiza uma exploração inicial dos dados, com o objetivo de entender melhor suas características e distribuições.<br>\n",
        "Através de técnicas de visualização e análise descritiva, foram identificados padrões, outliers e possíveis correlações entre variáveis,<br>\n",
        "preparando o terreno para análises mais aprofundadas.</p>"
      ]
    },
    {
      "cell_type": "markdown",
      "metadata": {
        "id": "NHsVDmRB-RES"
      },
      "source": [
        "---\n",
        "## Importe das bibliotecas\n",
        "Instalação e importação das bibliotecas necessárias:"
      ]
    },
    {
      "cell_type": "code",
      "execution_count": 1,
      "metadata": {
        "id": "wG8dQ3XN-kga"
      },
      "outputs": [],
      "source": [
        "#!pip install pandas matplotlib numpy seaborn sklearn\n",
        "import pandas as pd\n",
        "import matplotlib.pyplot as plt\n",
        "import numpy as np\n",
        "import seaborn as sns\n",
        "import sklearn as sk\n",
        "from sklearn.preprocessing import MinMaxScaler, OneHotEncoder"
      ]
    },
    {
      "cell_type": "markdown",
      "metadata": {
        "id": "w09AijQy_N7J"
      },
      "source": [
        "---\n",
        "## Importe do banco de dados via arquivo local\n",
        "Importação do DataFrame da base de dados da Unipar com a biblioteca pandas:"
      ]
    },
    {
      "cell_type": "code",
      "execution_count": 2,
      "metadata": {
        "id": "dx8jczE38zAg"
      },
      "outputs": [],
      "source": [
        "df = pd.read_csv('BASE DE SINISTRO UNIPAR BRADESCO.csv', decimal=',')"
      ]
    },
    {
      "cell_type": "markdown",
      "metadata": {
        "id": "QbpHjYfpgdIZ"
      },
      "source": [
        "---\n",
        "## Verificação do pré-processamento\n",
        "Coleta informações sobre as colunas do DataFrame através do método `info()`:"
      ]
    },
    {
      "cell_type": "code",
      "execution_count": null,
      "metadata": {
        "colab": {
          "base_uri": "https://localhost:8080/"
        },
        "id": "NTFrJJbECUDd",
        "outputId": "e9324ed7-0a3e-4ca9-bbd5-8236dadca98a"
      },
      "outputs": [],
      "source": [
        "df.info()"
      ]
    },
    {
      "cell_type": "markdown",
      "metadata": {
        "id": "dKU7gHatA9Br"
      },
      "source": [
        "Correção das colunas numéricas em categoricas."
      ]
    },
    {
      "cell_type": "code",
      "execution_count": null,
      "metadata": {
        "colab": {
          "base_uri": "https://localhost:8080/"
        },
        "id": "KF5WWRDuA8jp",
        "outputId": "6fb353be-d61e-45df-b43e-1ff827b01dc9"
      },
      "outputs": [],
      "source": [
        "colunas_n_numericas = [\"Apolice Sinistro\", \"Codigo Empresa Sinistro\", \"Codigo Especialidade Sinistro\", \"Codigo Servico Sinistro\", \"Codigo Prestador\", \"Codigo Grupo Empresa\"]\n",
        "df[colunas_n_numericas] = df[colunas_n_numericas].astype('object')\n",
        "\n",
        "df.info()"
      ]
    },
    {
      "cell_type": "markdown",
      "metadata": {
        "id": "gozc0QbwaqKw"
      },
      "source": [
        "Coleta de informações de estatísticas descritivas das colunas numéricas da base de dados, por meio do método `describe()`:"
      ]
    },
    {
      "cell_type": "code",
      "execution_count": null,
      "metadata": {
        "colab": {
          "base_uri": "https://localhost:8080/",
          "height": 459
        },
        "id": "Mi5YJJ0IAtFn",
        "outputId": "dfccd3a2-838d-43fb-e401-9602b2b07d5e"
      },
      "outputs": [],
      "source": [
        "df.describe()"
      ]
    },
    {
      "cell_type": "markdown",
      "metadata": {
        "id": "_qHZ4dvUouM0"
      },
      "source": [
        "---\n",
        "## Exploração gráfica\n",
        "### Gráfico 'Valor Total por Faixas Etárias'\n",
        "Geração de um gráfico que relaciona a faixa etária dos segurados com o valor pago do sinistro. Para tanto, foi utilizada a biblioteca `matplotlib` e o método `groupby()`:"
      ]
    },
    {
      "cell_type": "code",
      "execution_count": null,
      "metadata": {
        "id": "GtOPxPW6ZYRu"
      },
      "outputs": [],
      "source": [
        "# Agrupar os dados\n",
        "grouped_df = df.groupby('Faixa-Etária Nova Sinistro')['Valor Pago Sinistro'].sum()\n",
        "\n",
        "# Definir os dados e rótulos\n",
        "data = grouped_df.values\n",
        "labels = grouped_df.index\n",
        "\n",
        "# Definir a paleta de cores com gradiente de frio para quente\n",
        "colors = sns.color_palette('blend:#eda,#004228', len(data))\n",
        "\n",
        "sns.set_style(\"whitegrid\")\n",
        "explode = (0, 0, 0, 0, 0, 0, 0, 0, 0, 0.1)\n",
        "\n",
        "# Criar o gráfico de pizza\n",
        "plt.figure(figsize=(10, 6))\n",
        "wedges, texts, autotexts = plt.pie(data, colors=colors, explode=explode, autopct='%1.1f%%', startangle=90, pctdistance=0.85)\n",
        "\n",
        "# Adicionar título\n",
        "plt.title('Percentual do Valor Total por Faixas Etárias', fontsize=20, fontweight='bold')\n",
        "\n",
        "# Adicionar legenda\n",
        "legend = plt.legend(labels, loc='lower left', bbox_to_anchor=(1, 0.3, 0.5, 1), fontsize=12)\n",
        "legend.get_frame().set_facecolor('#c0c0c0')\n",
        "legend.get_frame().set_edgecolor('none')\n",
        "\n",
        "# Personalizar a aparência\n",
        "plt.axis('equal')  # Assegura que a pizza seja desenhada como um círculo.\n",
        "plt.gca().set_facecolor('#f2f2f2')\n",
        "plt.tight_layout()\n",
        "\n",
        "# Mudar a cor do último valor da porcentagem para branco\n",
        "autotexts[-1].set_color('white')\n",
        "autotexts[-2].set_color('white')\n",
        "autotexts[-3].set_color('white')\n",
        "\n",
        "# Mostrar o gráfico\n",
        "plt.show()"
      ]
    },
    {
      "cell_type": "markdown",
      "metadata": {
        "id": "sj5Iw8wItUkh"
      },
      "source": [
        "### Gráfico 'Quantidade de Ativações de Sinistro por Faixa Etária'\n",
        "Geração de um gráfico que relaciona a faixa etária dos segurado com a quantidade de ativações dos sinistros. Para tanto, foi utilizada a biblioteca `matplotlib` e o método `groupby()`:"
      ]
    },
    {
      "cell_type": "code",
      "execution_count": null,
      "metadata": {
        "colab": {
          "base_uri": "https://localhost:8080/",
          "height": 660
        },
        "id": "CtbECoXenHCH",
        "outputId": "ffb1f657-87be-45af-91b8-b0c54a2d7dec"
      },
      "outputs": [],
      "source": [
        "# Configurar o estilo do Seaborn\n",
        "sns.set(style=\"whitegrid\")\n",
        "\n",
        "# Agrupar por faixa etária e somar os valores pagos\n",
        "grouped_df = df.groupby('Faixa-Etária Nova Sinistro')['Quantidade'].count()\n",
        "\n",
        "# Configurar o tamanho da figura e a cor de fundo\n",
        "plt.figure(figsize=(12, 7), facecolor='white')\n",
        "\n",
        "# Criar o gráfico de barras com um gradiente de cores\n",
        "colors = sns.color_palette(\"blend:#eda,#004228\", len(grouped_df))\n",
        "grouped_df.plot(kind='bar', color=colors)\n",
        "\n",
        "# Adicionar títulos e rótulos com fontes personalizadas\n",
        "plt.title('Quantidade de Ativações de Sinistro por Faixa Etária', fontsize=16, weight='bold', color='black')\n",
        "plt.xlabel('Faixa Etária', fontsize=14, color='black')\n",
        "plt.ylabel('Quantidade de Ativações', fontsize=14, color='black')\n",
        "plt.xticks(rotation=45, fontsize=12)\n",
        "plt.yticks(fontsize=12)\n",
        "\n",
        "# Adicionar linhas de grade mais discretas\n",
        "plt.grid(True, which='both', linestyle='--', linewidth=0.5, color='gray', axis='y')\n",
        "\n",
        "# Remover as bordas desnecessárias\n",
        "sns.despine()\n",
        "\n",
        "# Ajustar o layout para evitar sobreposição\n",
        "plt.tight_layout()\n",
        "\n",
        "# Mostrar o gráfico\n",
        "plt.show()"
      ]
    },
    {
      "cell_type": "markdown",
      "metadata": {
        "id": "z3r85rBzs-hV"
      },
      "source": [
        "### Gráfico 'Valor Pago por Ano e Mês'\n",
        "Geração de um gráfico que relaciona o ano e mês com o valor pago do sinistro. Para tanto, foi utilizada a biblioteca `matplotlib` e o método `groupby()`:"
      ]
    },
    {
      "cell_type": "code",
      "execution_count": null,
      "metadata": {
        "colab": {
          "base_uri": "https://localhost:8080/",
          "height": 501
        },
        "id": "T_fvcj4Tlaqp",
        "outputId": "a375207f-5e95-4995-b386-16e87ff6bf07"
      },
      "outputs": [],
      "source": [
        "# Converter 'No Ano Mes' em um objeto datetime para melhor visualização no gráfico de linha\n",
        "df['No Ano Mes'] = pd.to_datetime(df['No Ano Mes'], format='%Y%m')\n",
        "\n",
        "# Agrupar por ano e mês e somar os valores pagos\n",
        "grouped_df = df.groupby('No Ano Mes')['Valor Pago Sinistro'].sum()\n",
        "\n",
        "# Configurar o estilo do Seaborn\n",
        "sns.set(style=\"whitegrid\")\n",
        "\n",
        "# Criar o gráfico de linha com pontos\n",
        "plt.figure(figsize=(10, 5), facecolor='white')\n",
        "plt.plot(grouped_df.index, grouped_df, color='#004228', marker='o', linestyle='-', markersize=8, linewidth=2)\n",
        "\n",
        "# Adicionar títulos e rótulos com fontes personalizadas\n",
        "plt.title('Valor Pago por Ano e Mês (07/23 - 06/24)', fontsize=16, weight='bold', color='black')\n",
        "plt.xlabel('Ano e Mês', fontsize=14, color='black')\n",
        "plt.ylabel('Valor Pago (R$) em milhões', fontsize=14, color='black')\n",
        "\n",
        "# Adicionar todos os labels no eixo X com o ano em dois dígitos\n",
        "plt.xticks(ticks=grouped_df.index, labels=grouped_df.index.strftime('%m/%y'), rotation=45, fontsize=12)\n",
        "plt.yticks(fontsize=12)\n",
        "\n",
        "# Adicionar linhas de grade mais discretas\n",
        "plt.grid(True, which='both', linestyle='--', linewidth=0.5, color='gray')\n",
        "\n",
        "# Remover as bordas desnecessárias\n",
        "sns.despine()\n",
        "\n",
        "# Ajustar o layout para evitar sobreposição\n",
        "plt.tight_layout()\n",
        "\n",
        "# Mostrar o gráfico\n",
        "plt.show()"
      ]
    }
  ],
  "metadata": {
    "colab": {
      "provenance": []
    },
    "kernelspec": {
      "display_name": "Python 3",
      "name": "python3"
    },
    "language_info": {
      "codemirror_mode": {
        "name": "ipython",
        "version": 3
      },
      "file_extension": ".py",
      "mimetype": "text/x-python",
      "name": "python",
      "nbconvert_exporter": "python",
      "pygments_lexer": "ipython3",
      "version": "3.12.1"
    }
  },
  "nbformat": 4,
  "nbformat_minor": 0
}
