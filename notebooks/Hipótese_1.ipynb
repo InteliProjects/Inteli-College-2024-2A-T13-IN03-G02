{
 "cells": [
  {
   "cell_type": "markdown",
   "metadata": {},
   "source": [
    "# Hipótese 1 \n",
    "Neste Jupyter Notebook, exploraremos a hipótese de que, durante os meses de inverno (junho a setembro), as baixas temperaturas e o enfraquecimento do sistema imunológico contribuem para um aumento na utilização do plano de saúde por colaboradores que buscam consultas e tratamentos médicos nas áreas pneumológicas."
   ]
  },
  {
   "cell_type": "markdown",
   "metadata": {},
   "source": [
    "***\n",
    "## Instalação das bibliotecas:\n",
    "Instala bibliotecas necessárias:"
   ]
  },
  {
   "cell_type": "code",
   "execution_count": null,
   "metadata": {},
   "outputs": [],
   "source": [
    "!pip install pandas numpy"
   ]
  },
  {
   "cell_type": "markdown",
   "metadata": {},
   "source": [
    "***\n",
    "## Importação das bibliotecas:\n",
    "Importa bibliotecas necessárias:"
   ]
  },
  {
   "cell_type": "code",
   "execution_count": 2,
   "metadata": {},
   "outputs": [],
   "source": [
    "import pandas as pd\n",
    "import numpy as np\n",
    "import matplotlib.pyplot as plt"
   ]
  },
  {
   "cell_type": "markdown",
   "metadata": {},
   "source": [
    "***\n",
    "## Importe do banco de dados via arquivo local\n",
    "Importação do DataFrame da base de dados da Unipar com a biblioteca pandas.<br> \n",
    "Para rodar o notebook corretamente, será necessário importar o arquivo de banco de dados manualmente, pois ele não está incluído no repositório devido à presença de dados sensíveis.\n",
    "\n",
    "#### Passos para Importar o Banco de Dados no VS Code\n",
    "\n",
    "4. *Obtenha o Arquivo de Dados*:\n",
    "   - O arquivo BASE_DE_SINISTRO_UNIPAR_BRADESCO_ORIGINAL.csv deverá ser fornecido separadamente. Entre em contato com o responsável pelo projeto para receber o arquivo.\n",
    "\n",
    "5. *Posicione o Arquivo na Pasta Correta*:\n",
    "   - Após receber o arquivo, arraste-o para a mesma pasta onde o notebook está localizado em seu computador. Isso garante que o caminho relativo na função de leitura permaneça o mesmo e funcione corretamente.\n",
    "   \n",
    "6. *Verifique o Caminho do Arquivo*:\n",
    "   - O código de leitura do arquivo já está implementado no notebook e não precisa ser alterado:\n",
    "     python\n",
    "     df = pd.read_csv('BASE_DE_SINISTRO_UNIPAR_BRADESCO_ORIGINAL.csv', decimal=',')\n",
    "     \n",
    "   - Certifique-se de que o arquivo CSV esteja no mesmo diretório que o notebook para evitar problemas de caminho.\n",
    "\n",
    "7. *Rodar o Notebook*:\n",
    "   - Com o arquivo posicionado corretamente, execute o notebook normalmente. O pandas irá carregar os dados e você poderá seguir com a análise.\n",
    "\n",
    "*Nota*: Caso o arquivo não esteja na mesma pasta que o notebook, o código não será capaz de localizar o banco de dados, resultando em um erro. Portanto, é essencial que o arquivo seja arrastado para o diretório correto antes da execução.\n",
    "\n",
    "Agora que você baixou os notebooks e o banco de dados, pode seguir para os próximos passos de execução, seja localmente ou no Google Colab."
   ]
  },
  {
   "cell_type": "code",
   "execution_count": 3,
   "metadata": {},
   "outputs": [],
   "source": [
    "df = pd.read_csv('[NÃO EDITAR] BASE DE SINISTRO UNIPAR_BRADESCO_ORIGINAL.xlsx - BASE.csv', decimal=',')"
   ]
  },
  {
   "cell_type": "markdown",
   "metadata": {},
   "source": [
    "***\n",
    "## Pré-Processamento\n",
    "Como apresentado no notebook 'Pré-Processamento', as linhas a seguir executam várias etapas para limpar e organizar o banco de dados.<br>\n",
    "Os comentários no código explicam cada ação."
   ]
  },
  {
   "cell_type": "code",
   "execution_count": 4,
   "metadata": {},
   "outputs": [],
   "source": [
    "# Tratamento de valores nulos\n",
    "df = df.dropna()\n",
    "# Correção do ponto faltante em 'UNIPAR INDUPA DO BRASIL S.A'\n",
    "df = df.replace({\"UNIPAR INDUPA DO BRASIL S.A\": \"UNIPAR INDUPA DO BRASIL S.A.\"})\n",
    "# Remoção de AGREGADO e DEPENDENTE\n",
    "df_remove_d = df.loc[(df['Elegibilidade Sinistro'] == 'DEPENDENTE') ]\n",
    "df = df.drop(df_remove_d.index)\n",
    "df_remove_a = df.loc[(df['Elegibilidade Sinistro'] == 'AGREGADO') ]\n",
    "df = df.drop(df_remove_a.index)\n",
    "# Tratamento de valores duplicados\n",
    "df = df.drop_duplicates(keep='last')\n",
    "# Convertendo a coluna 'Dt Data Sinistro' para o formato 'YYYYMMDD' (Ano-Mês-Dia)\n",
    "df['Dt Data Sinistro'] = pd.to_datetime(df['Dt Data Sinistro'], format='%d/%m/%Y').dt.strftime('%Y%m%d')"
   ]
  },
  {
   "cell_type": "code",
   "execution_count": 5,
   "metadata": {},
   "outputs": [],
   "source": [
    "# Converter a coluna para datetime\n",
    "df['Dt Data Sinistro'] = pd.to_datetime(df['Dt Data Sinistro'], format='%Y%m%d')\n",
    "\n",
    "# Extrair componentes de ano, mês e dia\n",
    "df['Ano'] = df['Dt Data Sinistro'].dt.year\n",
    "df['Mes'] = df['Dt Data Sinistro'].dt.month\n",
    "df['Dia'] = df['Dt Data Sinistro'].dt.day"
   ]
  },
  {
   "cell_type": "markdown",
   "metadata": {},
   "source": [
    "***\n",
    "## Comprovação da hipótese"
   ]
  },
  {
   "cell_type": "markdown",
   "metadata": {},
   "source": [
    "A seguir, será apresentado um gráfico que mostra a distribuição das ativações de sinistros por mês, considerando os anos de 2023 e 2024. Essa análise será baseada na coluna 'Descrição Serviço Sinistro'."
   ]
  },
  {
   "cell_type": "code",
   "execution_count": null,
   "metadata": {},
   "outputs": [],
   "source": [
    "df['Mes_Ano'] = df['Mes'].astype(str) + '-' + df['Ano'].astype(str)\n",
    "sinistros_por_mes = df.groupby('Mes')['Descricao Servico Sinistro'].count()\n",
    "\n",
    "sinistros_por_mes = sinistros_por_mes.reset_index()\n",
    "\n",
    "plt.figure(figsize=(10, 6))\n",
    "plt.plot(sinistros_por_mes['Mes'], sinistros_por_mes['Descricao Servico Sinistro'], marker='o', linestyle='-', color='g')\n",
    "\n",
    "plt.xticks(np.arange(1, 13, 1), ['Jan', 'Feb', 'Mar', 'Apr', 'May', 'Jun', 'Jul', 'Aug', 'Sep', 'Oct', 'Nov', 'Dec'])\n",
    "\n",
    "plt.title('Número de ativações de sinistro por mês')\n",
    "plt.xlabel('Mês')\n",
    "plt.ylabel('Número de ativações')\n",
    "plt.grid(True)\n",
    "\n",
    "plt.show()"
   ]
  },
  {
   "cell_type": "markdown",
   "metadata": {},
   "source": [
    "Esse gráfico revela um aumento significativo no uso do plano de saúde durante os meses de julho e agosto, o que por si só já nos fornece informações relevantes. A seguir, vamos analisar a distribuição mensal de algumas palavras-chave relacionadas a doenças respiratórias dentro dos nossos dados. Para essa análise, criamos uma variável contendo 44 palavras que podem estar presentes na coluna 'Descrição Serviço Sinistro', e utilizaremos essas palavras para aprofundar nossa análise."
   ]
  },
  {
   "cell_type": "code",
   "execution_count": 7,
   "metadata": {},
   "outputs": [],
   "source": [
    "keywords = [\n",
    "    'resp', 'asma', 'bronq', 'pneumo', 'tosse', 'alerg', 'sinus', 'pulm', 'influ', 'grip', \n",
    "    'rinite', 'faring', 'laring', 'otite', 'bronquiolite', 'enfisema', 'COVID', 'corona', \n",
    "    'infecc', 'hipox', 'SARS', 'tuberculose', 'mucos', 'ventilação', 'apneia', 'pneumotórax',\n",
    "    'bronquiectasia', 'hemoptise', 'tracheite', 'epiglotite', 'pleur', 'broncoespasmo', \n",
    "    'hiperreactividade brônquica', 'tosse crônica', 'edema pulmonar', 'DPOC', 'fibrose pulmonar',\n",
    "    'aspiração', 'traqueostomia', 'ventilação não invasiva', 'oxigenoterapia', 'pneumonectomia',\n",
    "    'laringotraqueobronquite', 'aspirado traqueal'\n",
    "]"
   ]
  },
  {
   "cell_type": "markdown",
   "metadata": {},
   "source": [
    "***\n",
    "## Ativações fora dos meses de inverno"
   ]
  },
  {
   "cell_type": "markdown",
   "metadata": {},
   "source": [
    "Aqui aplicamos um filtro para que o \"df_total_doencas\" mantenha apenas as linhas em que a coluna \"Descrição Servico Sinistro\" contém alguma das palavras presentes na variável \"keywords\"."
   ]
  },
  {
   "cell_type": "code",
   "execution_count": 8,
   "metadata": {},
   "outputs": [],
   "source": [
    "df_total_doencas = df[df['Descricao Servico Sinistro'].str.contains('|'.join(keywords), case=False, na=False)]"
   ]
  },
  {
   "cell_type": "markdown",
   "metadata": {},
   "source": [
    "Número total de linhas:"
   ]
  },
  {
   "cell_type": "code",
   "execution_count": null,
   "metadata": {},
   "outputs": [],
   "source": [
    "print(f'Total de linhas: {df_total_doencas['Descricao Servico Sinistro'].shape[0]}')"
   ]
  },
  {
   "cell_type": "markdown",
   "metadata": {},
   "source": [
    "Em seguida é plotado um gráfico que agruda os valores nos meses em que eles ocorreram."
   ]
  },
  {
   "cell_type": "code",
   "execution_count": null,
   "metadata": {},
   "outputs": [],
   "source": [
    "doencas_por_mes = df_total_doencas.groupby('Mes')['Descricao Servico Sinistro'].count().reset_index()\n",
    "\n",
    "plt.figure(figsize=(10, 6))\n",
    "plt.scatter(doencas_por_mes['Mes'], doencas_por_mes['Descricao Servico Sinistro'], color='b')\n",
    "\n",
    "plt.plot(doencas_por_mes['Mes'], doencas_por_mes['Descricao Servico Sinistro'], linestyle='-', color='b')\n",
    "\n",
    "plt.title('Dispersão das ativações relacionadas a doenças respiratórias por mês')\n",
    "plt.xlabel('Mês')\n",
    "plt.ylabel('Número de ativações')\n",
    "plt.xticks(np.arange(1, 13, 1), ['Jan', 'Fev', 'Mar', 'Abr', 'Mai', 'Jun', 'Jul', 'Ago', 'Set', 'Out', 'Nov', 'Dez'])\n",
    "plt.grid(True)\n",
    "plt.savefig('ativacoes_doencas_respiratorias_por_mes.png', dpi=300, bbox_inches='tight')\n",
    "plt.show()"
   ]
  },
  {
   "cell_type": "markdown",
   "metadata": {},
   "source": [
    "Como podemos observar, similar ao gráfico que mostra a distribuição das ativações de sinistros por mês, este gráfico também destaca uma grande incidência de sinistros com descrições que contêm as palavras-chave mencionadas anteriormente, especialmente no mês de agosto.\n",
    "\n",
    "É importante ressaltar que, após o filtro aplicado, o banco de dados contém um total de 321 registros."
   ]
  },
  {
   "cell_type": "markdown",
   "metadata": {},
   "source": [
    "***\n",
    "## Ativações durante os meses de inverno"
   ]
  },
  {
   "cell_type": "markdown",
   "metadata": {},
   "source": [
    "Na etapa final da comprovação dessa hipótese, filtramos novamente nossos dados para garantir que o \"df_inverno\" contenha apenas os registros dos meses de junho a setembro, que correspondem ao período do inverno."
   ]
  },
  {
   "cell_type": "code",
   "execution_count": null,
   "metadata": {},
   "outputs": [],
   "source": [
    "df_inverno = df.loc[((df['Ano'] == 2023) | (df['Ano'] == 2024)) & (df['Mes'] >= 6) & (df['Mes'] <= 9)]\n",
    "df_inverno.shape[0]"
   ]
  },
  {
   "cell_type": "markdown",
   "metadata": {},
   "source": [
    "Filtramos novamente utilizando as palavras-chaves"
   ]
  },
  {
   "cell_type": "code",
   "execution_count": null,
   "metadata": {},
   "outputs": [],
   "source": [
    "df_doencas_respiratorias = df_inverno[df_inverno['Descricao Servico Sinistro'].str.contains('|'.join(keywords), case=False, na=False)]\n",
    "df_doencas_respiratorias['Descricao Servico Sinistro']"
   ]
  },
  {
   "cell_type": "markdown",
   "metadata": {},
   "source": [
    "Número total de linhas"
   ]
  },
  {
   "cell_type": "code",
   "execution_count": null,
   "metadata": {},
   "outputs": [],
   "source": [
    "print(f'Total de linhas: {df_doencas_respiratorias['Descricao Servico Sinistro'].shape[0]}')"
   ]
  },
  {
   "cell_type": "markdown",
   "metadata": {},
   "source": [
    "E por fim plotamos os gráficos com as ativações e seus respectivos meses."
   ]
  },
  {
   "cell_type": "code",
   "execution_count": null,
   "metadata": {},
   "outputs": [],
   "source": [
    "sinistros_inverno_por_mes = df_doencas_respiratorias.groupby('Mes')['Descricao Servico Sinistro'].count().reset_index()\n",
    "plt.figure(figsize=(10, 6))\n",
    "plt.plot(sinistros_inverno_por_mes['Mes'], sinistros_inverno_por_mes['Descricao Servico Sinistro'], marker='o', linestyle='-', color='b')\n",
    "\n",
    "plt.xticks(np.arange(6, 10, 1), ['Jun', 'Jul', 'Ago', 'Set'])\n",
    "\n",
    "plt.title('Número de ativações de sinistro nos meses de inverno')\n",
    "plt.xlabel('Mês')\n",
    "plt.ylabel('Número de ativações')\n",
    "plt.grid(True)\n",
    "plt.show()"
   ]
  },
  {
   "cell_type": "markdown",
   "metadata": {},
   "source": [
    "É importante destacar que, ao filtrar os dados apenas para os meses de inverno, encontramos um total de 113 registros."
   ]
  },
  {
   "cell_type": "markdown",
   "metadata": {},
   "source": [
    "***"
   ]
  },
  {
   "cell_type": "markdown",
   "metadata": {},
   "source": [
    "# Conclusão "
   ]
  },
  {
   "cell_type": "markdown",
   "metadata": {},
   "source": [
    "Com base em todos os gráficos e análises desenvolvidos, podemos concluir que, ao longo do ano, ocorrem mais de 300 consultas relacionadas a doenças respiratórias e condições semelhantes. A maior concentração dessas consultas ocorre nos meses de inverno, que correspondem a cerca de um terço do total anual. Assim, podemos confirmar que nossas hipóteses estavam corretas: a busca por tratamentos respiratórios realmente aumenta durante o inverno em comparação com os outros meses do ano."
   ]
  }
 ],
 "metadata": {
  "kernelspec": {
   "display_name": "Python 3",
   "language": "python",
   "name": "python3"
  },
  "language_info": {
   "codemirror_mode": {
    "name": "ipython",
    "version": 3
   },
   "file_extension": ".py",
   "mimetype": "text/x-python",
   "name": "python",
   "nbconvert_exporter": "python",
   "pygments_lexer": "ipython3",
   "version": "3.12.7"
  }
 },
 "nbformat": 4,
 "nbformat_minor": 2
}
