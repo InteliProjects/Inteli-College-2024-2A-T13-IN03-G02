{
 "cells": [
  {
   "cell_type": "markdown",
   "metadata": {},
   "source": [
    "# Hipótese 3 \n",
    "Neste Jupyter Notebook, exploraremos a hipótese de que, que existe um uso pequeno do plano de saúde com serviços de apoio psicológico e bem-estar, por conta do valor pago ser um valor alto."
   ]
  },
  {
   "cell_type": "markdown",
   "metadata": {},
   "source": [
    "***\n",
    "## Instalação das bibliotecas:\n",
    "Instala bibliotecas necessárias:"
   ]
  },
  {
   "cell_type": "code",
   "execution_count": null,
   "metadata": {},
   "outputs": [],
   "source": [
    "!pip install pandas numpy matplotlib seaborn"
   ]
  },
  {
   "cell_type": "markdown",
   "metadata": {},
   "source": [
    "***\n",
    "## Importação das bibliotecas:\n",
    "Importa bibliotecas necessárias:"
   ]
  },
  {
   "cell_type": "code",
   "execution_count": 2,
   "metadata": {},
   "outputs": [],
   "source": [
    "import pandas as pd\n",
    "import numpy as np\n",
    "import matplotlib.pyplot as plt\n",
    "import seaborn as sns\n",
    "\n",
    "#configurando estilo seaborn\n",
    "sns.set(style=\"whitegrid\")"
   ]
  },
  {
   "cell_type": "markdown",
   "metadata": {},
   "source": [
    "***\n",
    "## Importe do banco de dados via arquivo local\n",
    "Importação do DataFrame da base de dados da Unipar com a biblioteca pandas.<br> \n",
    "Para rodar o notebook corretamente, será necessário importar o arquivo de banco de dados manualmente, pois ele não está incluído no repositório devido à presença de dados sensíveis.\n",
    "\n",
    "#### Passos para Importar o Banco de Dados no VS Code\n",
    "\n",
    "4. *Obtenha o Arquivo de Dados*:\n",
    "   - O arquivo BASE_DE_SINISTRO_UNIPAR_BRADESCO_ORIGINAL.csv deverá ser fornecido separadamente. Entre em contato com o responsável pelo projeto para receber o arquivo.\n",
    "\n",
    "5. *Posicione o Arquivo na Pasta Correta*:\n",
    "   - Após receber o arquivo, arraste-o para a mesma pasta onde o notebook está localizado em seu computador. Isso garante que o caminho relativo na função de leitura permaneça o mesmo e funcione corretamente.\n",
    "   \n",
    "6. *Verifique o Caminho do Arquivo*:\n",
    "   - O código de leitura do arquivo já está implementado no notebook e não precisa ser alterado:\n",
    "     python\n",
    "     df = pd.read_csv('BASE_DE_SINISTRO_UNIPAR_BRADESCO_ORIGINAL.csv', decimal=',')\n",
    "     \n",
    "   - Certifique-se de que o arquivo CSV esteja no mesmo diretório que o notebook para evitar problemas de caminho.\n",
    "\n",
    "7. *Rodar o Notebook*:\n",
    "   - Com o arquivo posicionado corretamente, execute o notebook normalmente. O pandas irá carregar os dados e você poderá seguir com a análise.\n",
    "\n",
    "*Nota*: Caso o arquivo não esteja na mesma pasta que o notebook, o código não será capaz de localizar o banco de dados, resultando em um erro. Portanto, é essencial que o arquivo seja arrastado para o diretório correto antes da execução.\n",
    "\n",
    "Agora que você baixou os notebooks e o banco de dados, pode seguir para os próximos passos de execução, seja localmente ou no Google Colab."
   ]
  },
  {
   "cell_type": "code",
   "execution_count": 3,
   "metadata": {},
   "outputs": [],
   "source": [
    "df = pd.read_csv('[NÃO EDITAR] BASE DE SINISTRO UNIPAR_BRADESCO_ORIGINAL.xlsx - BASE.csv', decimal=',')"
   ]
  },
  {
   "cell_type": "markdown",
   "metadata": {},
   "source": [
    "***\n",
    "## Pré-Processamento\n",
    "Como apresentado no notebook 'Pré-Processamento', as linhas a seguir executam várias etapas para limpar e organizar o banco de dados.<br>\n",
    "Os comentários no código explicam cada ação."
   ]
  },
  {
   "cell_type": "code",
   "execution_count": 4,
   "metadata": {},
   "outputs": [],
   "source": [
    "# Tratamento de valores nulos\n",
    "df = df.dropna()\n",
    "# Correção do ponto faltante em 'UNIPAR INDUPA DO BRASIL S.A'\n",
    "df = df.replace({\"UNIPAR INDUPA DO BRASIL S.A\": \"UNIPAR INDUPA DO BRASIL S.A.\"})\n",
    "# Remoção de AGREGADO e DEPENDENTE\n",
    "df_remove_d = df.loc[(df['Elegibilidade Sinistro'] == 'DEPENDENTE') ]\n",
    "df = df.drop(df_remove_d.index)\n",
    "df_remove_a = df.loc[(df['Elegibilidade Sinistro'] == 'AGREGADO') ]\n",
    "df = df.drop(df_remove_a.index)\n",
    "# Tratamento de valores duplicados\n",
    "df = df.drop_duplicates(keep='last')\n",
    "# Convertendo a coluna 'Dt Data Sinistro' para o formato 'YYYYMMDD' (Ano-Mês-Dia)\n",
    "df['Dt Data Sinistro'] = pd.to_datetime(df['Dt Data Sinistro'], format='%d/%m/%Y').dt.strftime('%Y%m%d')"
   ]
  },
  {
   "cell_type": "code",
   "execution_count": 5,
   "metadata": {},
   "outputs": [],
   "source": [
    "# Converter a coluna para datetime\n",
    "df['Dt Data Sinistro'] = pd.to_datetime(df['Dt Data Sinistro'], format='%Y%m%d')\n",
    "\n",
    "# Extrair componentes de ano, mês e dia\n",
    "df['Ano'] = df['Dt Data Sinistro'].dt.year\n",
    "df['Mes'] = df['Dt Data Sinistro'].dt.month\n",
    "df['Dia'] = df['Dt Data Sinistro'].dt.day"
   ]
  },
  {
   "cell_type": "markdown",
   "metadata": {},
   "source": [
    "***\n",
    "## Comprovação da hipótese"
   ]
  },
  {
   "cell_type": "markdown",
   "metadata": {},
   "source": [
    "A seguir, será apresentado um gráfico que mostra a distribuição das ativações de sinistros por mês, considerando os anos de 2023 e 2024. Essa análise será baseada na coluna 'Descrição Serviço Sinistro'."
   ]
  },
  {
   "cell_type": "code",
   "execution_count": null,
   "metadata": {},
   "outputs": [],
   "source": [
    "df['Mes_Ano'] = df['Mes'].astype(str) + '-' + df['Ano'].astype(str)\n",
    "sinistros_por_mes = df.groupby('Mes')['Descricao Servico Sinistro'].count()\n",
    "\n",
    "sinistros_por_mes = sinistros_por_mes.reset_index()\n",
    "\n",
    "plt.figure(figsize=(10, 6))\n",
    "plt.plot(sinistros_por_mes['Mes'], sinistros_por_mes['Descricao Servico Sinistro'], marker='o', linestyle='-', color='g')\n",
    "\n",
    "plt.xticks(np.arange(1, 13, 1), ['Jan', 'Feb', 'Mar', 'Apr', 'May', 'Jun', 'Jul', 'Aug', 'Sep', 'Oct', 'Nov', 'Dec'])\n",
    "\n",
    "plt.title('Número de ativações de sinistro por mês')\n",
    "plt.xlabel('Mês')\n",
    "plt.ylabel('Número de ativações')\n",
    "plt.grid(True)\n",
    "\n",
    "plt.show()"
   ]
  },
  {
   "cell_type": "markdown",
   "metadata": {},
   "source": [
    "Esse gráfico revela informações importantes sobre quando houve ativação do seguro ao longo do ano. \n",
    "\n",
    "A seguir, vamos analisar a distribuição mensal de algumas palavras-chave relacionadas a serviços de apoio psicológico e bem-estar dentro dos nossos dados. Para essa análise, criamos uma variável contendo palavras que podem estar presentes na coluna 'Descrição Serviço Sinistro', e utilizaremos essas palavras para aprofundar nossa análise."
   ]
  },
  {
   "cell_type": "code",
   "execution_count": 7,
   "metadata": {},
   "outputs": [],
   "source": [
    "keywords = [\n",
    "    'consulta em psicologia', 'sessao de psicoterapia individual por psicologo', \n",
    "    'consulta ambulatorial em fisioterapia', 'sessao individual ambulatorial de fonoaudiologia', \n",
    "    'consulta/ sessao em psicologia telessaude', 'sessao de psicoterapia individual', \n",
    "    'sessao de psicoterapia infantil', 'sessao de psicoterapia individual por psicologo telessaude',\n",
    "    'consulta ambulatorial por nutricionista', 'sessao individual ambulatorial em terapia ocupacional', \n",
    "    'consulta com nutricionista telessaude', 'atendimento fisiatrico no pre e pos-op', \n",
    "    'consulta/ sessao em psicologia','psico','nutri'\n",
    "]"
   ]
  },
  {
   "cell_type": "code",
   "execution_count": 8,
   "metadata": {},
   "outputs": [],
   "source": [
    "df_consultas = df[df['Descricao Servico Sinistro'].str.contains('|'.join(keywords), case=False, na=False)]"
   ]
  },
  {
   "cell_type": "code",
   "execution_count": null,
   "metadata": {},
   "outputs": [],
   "source": [
    "consultas_por_mes = df_consultas.groupby('Mes')['Descricao Servico Sinistro'].count().reset_index()\n",
    "\n",
    "plt.figure(figsize=(10, 6))\n",
    "plt.scatter(consultas_por_mes['Mes'], consultas_por_mes['Descricao Servico Sinistro'], color='b')\n",
    "\n",
    "plt.plot(consultas_por_mes['Mes'], consultas_por_mes['Descricao Servico Sinistro'], linestyle='-', color='b')\n",
    "\n",
    "plt.title('Dispersão das ativações do plano de saúde com serviços de apoio psicológico e bem-estar')\n",
    "plt.xlabel('Mês')\n",
    "plt.ylabel('Número de ativações')\n",
    "plt.xticks(np.arange(1, 13, 1), ['Jan', 'Fev', 'Mar', 'Abr', 'Mai', 'Jun', 'Jul', 'Ago', 'Set', 'Out', 'Nov', 'Dez'])\n",
    "plt.grid(True)\n",
    "plt.savefig('ativacoes_consultas_psico_bemestar_por_mes.png', dpi=300, bbox_inches='tight')\n",
    "plt.show()"
   ]
  },
  {
   "cell_type": "markdown",
   "metadata": {},
   "source": [
    "Com o gráfico das consultas de atendimento psicológico e de serviços de bem-estar nós conseguimos perceber um número de ativações do seguro bem inferior ao geral, e percebemos que não existe uma constancia nessas ativações dos funcionários, porém ela deveria ocorrer com recorrência, pois normalmente são acompanhamentos semanais. \n",
    "\n",
    "Para analisar se essas consultas são caras, ou seja, possuem um valor pago maior que outros atendimentos, nós vamos considerar o R$ 117,00 como o valor de referência, pois 75% da nossa base está com o valor pago no sinistro menor que R$ 117,00, então esse valor será o parametro para avaliar se os custos do plano de saúde com serviços de apoio psicológico e de bem-estar possuem um valor pago alto, ou seja, estão maiores que R$ 117,00."
   ]
  },
  {
   "cell_type": "code",
   "execution_count": 10,
   "metadata": {},
   "outputs": [],
   "source": [
    "# Selecionando somente as consultas com valor pago maior que R$ 117\n",
    "df_consultas_caras = df[\n",
    "    (df['Descricao Servico Sinistro'].str.contains('|'.join(keywords), case=False, na=False)) &\n",
    "    (df['Valor Pago Sinistro'] > 117)\n",
    "]"
   ]
  },
  {
   "cell_type": "markdown",
   "metadata": {},
   "source": [
    "A seguir, vamos analisar a distribuição mensal das consultas consideradas caras, ou seja, com valor pago maior que R$ 117,00 conforme definido anteriormente."
   ]
  },
  {
   "cell_type": "code",
   "execution_count": null,
   "metadata": {},
   "outputs": [],
   "source": [
    "consultas_caras_por_mes = df_consultas_caras.groupby('Mes')['Descricao Servico Sinistro'].count().reset_index()\n",
    "\n",
    "plt.figure(figsize=(10, 6))\n",
    "plt.scatter(consultas_caras_por_mes['Mes'], consultas_caras_por_mes['Descricao Servico Sinistro'], color='b')\n",
    "\n",
    "plt.plot(consultas_caras_por_mes['Mes'], consultas_caras_por_mes['Descricao Servico Sinistro'], linestyle='-', color='b')\n",
    "\n",
    "plt.title('Dispersão das ativações do plano de saúde com serviços de apoio psicológico e bem-estar com valor pago maior que R$ 117')\n",
    "plt.xlabel('Mês')\n",
    "plt.ylabel('Número de ativações')\n",
    "plt.xticks(np.arange(1, 13, 1), ['Jan', 'Fev', 'Mar', 'Abr', 'Mai', 'Jun', 'Jul', 'Ago', 'Set', 'Out', 'Nov', 'Dez'])\n",
    "plt.grid(True)\n",
    "plt.savefig('ativacoes_consultas_caras_psico_bemestar_por_mes.png', dpi=300, bbox_inches='tight')\n",
    "plt.show()"
   ]
  },
  {
   "cell_type": "markdown",
   "metadata": {},
   "source": [
    "A seguir, vamos gerar um gráfico de barras comparando o número de consultas com o número de consultas com valor maior que R$ 117,00, para entendermos melhor o quanto essas consultas caras são representativas."
   ]
  },
  {
   "cell_type": "code",
   "execution_count": null,
   "metadata": {},
   "outputs": [],
   "source": [
    "total_consultas_caras = df_consultas_caras['Descricao Servico Sinistro'].count()\n",
    "total_consultas = df_consultas['Descricao Servico Sinistro'].count()\n",
    "\n",
    "categorias = ['Todas as Consultas', 'Consultas Caras (Valor > R$ 117)']\n",
    "valores = [total_consultas, total_consultas_caras]\n",
    "\n",
    "plt.figure(figsize=(8, 5))\n",
    "bars = plt.bar(categorias, valores, color=['#ff7f0e', '#2ca02c'])\n",
    "\n",
    "\n",
    "plt.ylim(0, max(valores) + 200)\n",
    "\n",
    "# Adicionando rótulos com valores acima das barras\n",
    "for bar in bars:\n",
    "    yval = bar.get_height()\n",
    "    plt.text(bar.get_x() + bar.get_width() / 2, yval + 10, f'{round(yval, 2)}', \n",
    "             ha='center', va='bottom', fontsize=12, color='black', weight='bold')\n",
    "\n",
    "# Configurações do título e eixos\n",
    "plt.title('Comparação do Número Total de Consultas e Consultas Caras', fontsize=14, weight='bold')\n",
    "plt.ylabel('Número de Consultas', fontsize=12)\n",
    "\n",
    "\n",
    "plt.gca().spines['top'].set_visible(False)\n",
    "plt.gca().spines['right'].set_visible(False)\n",
    "\n",
    "# Salvando o gráfico com alta resolução\n",
    "plt.savefig('consultas_psico_bemEstar_barras.png', dpi=300, bbox_inches='tight')\n",
    "\n",
    "# Exibindo o gráfico\n",
    "plt.show()"
   ]
  },
  {
   "cell_type": "markdown",
   "metadata": {},
   "source": [
    "Com o gráfico de barras, conseguimos perceber que as consultas caracterizadas como caras representam a maior parte das consultas de apoio psicológico e bem-estar, porém para conseguirmos ter uma visualização mais clara dessa informações e verificarmos qual a porcentagem de consultas que estão com o valor pago maior que R$ 117,00."
   ]
  },
  {
   "cell_type": "code",
   "execution_count": null,
   "metadata": {},
   "outputs": [],
   "source": [
    "total_consultas_caras = df_consultas_caras['Descricao Servico Sinistro'].count()\n",
    "total_consultas = df_consultas['Descricao Servico Sinistro'].count()\n",
    "\n",
    "# Calculando o restante das consultas que não são \"Consultas Caras\"\n",
    "resto_consultas = total_consultas - total_consultas_caras\n",
    "\n",
    "valores = [total_consultas_caras, resto_consultas]\n",
    "labels = ['Consultas Caras (Valor > R$ 117)', 'Outras Consultas']\n",
    "colors = ['#2ca02c','#ff7f0e']\n",
    "\n",
    "def func(pct, allvalues):\n",
    "    absolute = int(pct / 100. * sum(allvalues))\n",
    "    return f'{pct:.1f}%\\n({absolute} consultas)'\n",
    "\n",
    "# Criando o gráfico de pizza\n",
    "fig, ax = plt.subplots(figsize=(7, 7))\n",
    "wedges, texts, autotexts = ax.pie(valores, labels=labels, colors=colors, autopct=lambda pct: func(pct, valores),\n",
    "                                   startangle=90, counterclock=False, wedgeprops={'edgecolor': 'black'})\n",
    "\n",
    "\n",
    "for text in autotexts:\n",
    "    text.set_bbox(dict(facecolor='white', edgecolor='none', pad=2))  \n",
    "    text.set_color('black') \n",
    "    text.set_fontsize(10)  \n",
    "\n",
    "for text in texts:\n",
    "    text.set_fontsize(12)  \n",
    "\n",
    "plt.title('Porcentagem de Consultas Caras em Relação ao Total de Consultas', fontsize=14, weight='bold')\n",
    "\n",
    "# Remover a borda do gráfico\n",
    "plt.gca().set_facecolor('white')\n",
    "\n",
    "plt.savefig('consultas_psico_bemEstar_pizza.png', dpi=300, bbox_inches='tight')\n",
    "\n",
    "# Exibindo o gráfico\n",
    "plt.show()"
   ]
  },
  {
   "cell_type": "markdown",
   "metadata": {},
   "source": [
    "***\n",
    "\n",
    "# Conclusão\n",
    "\n",
    "Com base em todos os gráficos e análises desenvolvidos, podemos concluir que, 76,4% dos serviços de apoio psicológico e bem-estar possuem os valores maiores que a maioria dos outros serviços utilizados pelos funcionários, e que isso deve impactar para que os funcionários não procurem e não mantenham a recorrência nesses serviços ao longo do ano. O gráfico de dispersão das consultas ao longo dos meses, mostra que não existe uma recorrencia dos funcionários, pois quase todo mês ele sofre uma variação significativa. Com base nessas informações, podemos concluir que a hipótese de que existe um uso pequeno do plano de saúde com serviços de apoio psicológico e bem-estar, por conta do valor pago ser um valor alto é verdadeira."
   ]
  }
 ],
 "metadata": {
  "kernelspec": {
   "display_name": "Python 3",
   "language": "python",
   "name": "python3"
  },
  "language_info": {
   "codemirror_mode": {
    "name": "ipython",
    "version": 3
   },
   "file_extension": ".py",
   "mimetype": "text/x-python",
   "name": "python",
   "nbconvert_exporter": "python",
   "pygments_lexer": "ipython3",
   "version": "3.12.7"
  }
 },
 "nbformat": 4,
 "nbformat_minor": 2
}
